{
  "nbformat": 4,
  "nbformat_minor": 0,
  "metadata": {
    "colab": {
      "provenance": [],
      "authorship_tag": "ABX9TyOTB4mft9gS8a/IKHZyOCRc",
      "include_colab_link": true
    },
    "kernelspec": {
      "name": "python3",
      "display_name": "Python 3"
    },
    "language_info": {
      "name": "python"
    }
  },
  "cells": [
    {
      "cell_type": "markdown",
      "metadata": {
        "id": "view-in-github",
        "colab_type": "text"
      },
      "source": [
        "<a href=\"https://colab.research.google.com/github/ralleraj/egna/blob/main/Head_CT_indikaatiot_py.ipynb\" target=\"_parent\"><img src=\"https://colab.research.google.com/assets/colab-badge.svg\" alt=\"Open In Colab\"/></a>"
      ]
    },
    {
      "cell_type": "markdown",
      "source": [
        "# Pään TT indikaatiosovellus"
      ],
      "metadata": {
        "id": "URmegbOM-Fp3"
      }
    },
    {
      "cell_type": "code",
      "source": [
        "## Install necessary libraries\n",
        "#!pip install streamlit # inactivated\n",
        "#!pip install streamlit-autorefresh # inactivated\n",
        "#!npm install -g localtunnel # inactivated\n",
        "#!apt-get install nodejs # inactivated\n",
        "#!pip install streamlit # inactivated\n",
        "#!pip install pyngrok # inactivated\n",
        "#!rm app.py # inactivated\n",
        "#!pip install selenium # inactivated\n",
        "#!pip install webdriver-manager # inactivated"
      ],
      "metadata": {
        "collapsed": true,
        "id": "XE2jT34M-NTS"
      },
      "execution_count": 1,
      "outputs": []
    },
    {
      "cell_type": "code",
      "source": [
        "from pyngrok import ngrok\n",
        "\n",
        "# Replace 'YOUR_NGROK_AUTH_TOKEN' with your actual ngrok auth token\n",
        "ngrok.set_auth_token('2oL79qDXYdTcwbXpte3yLiNulap_3kxxY9MogEywffJumFpkw')"
      ],
      "metadata": {
        "id": "5q-VcBvqAIaM"
      },
      "execution_count": 2,
      "outputs": []
    },
    {
      "cell_type": "code",
      "source": [
        "%%writefile app_ct.py\n",
        "\n",
        "import streamlit as st\n",
        "import pandas as pd\n",
        "\n",
        "# Data for the GCS table\n",
        "data = {\n",
        "    \"Toiminto\": [\n",
        "        \"Silmien avaaminen\", \"\", \"\", \"\",\n",
        "        \"Puhevaste\", \"\", \"\", \"\", \"\",\n",
        "        \"Paras liikevaste\", \"\", \"\", \"\", \"\", \"\", \"\"\n",
        "    ],\n",
        "    \"Reagointi\": [\n",
        "        \"Spontaanisti\", \"Puheelle\", \"Kivulle\", \"Ei mitään\",\n",
        "        \"Orientoitunut\", \"Sekava\", \"Irrallisia sanoja\", \"Ääntelyä\", \"Ei mitään\",\n",
        "        \"Noudattaa kehotuksia\", \"Paikallistaa kivun\", \"Väistää kipua\", \"Fleksoi kivulle\", \"Ekstensoi kivulle\", \"Ei vastetta\", \"\"\n",
        "    ],\n",
        "    \"Pisteet\": [\n",
        "        4, 3, 2, 1,\n",
        "        5, 4, 3, 2, 1,\n",
        "        6, 5, 4, 3, 2, 1, \"3–15\"\n",
        "    ]\n",
        "}\n",
        "\n",
        "# Create DataFrame\n",
        "df = pd.DataFrame(data)\n",
        "\n",
        "# Main title\n",
        "st.title(\"Pään TT indikaatiosovellus\")\n",
        "\n",
        "# Intro text\n",
        "st.write(\"Vastaa seuraaviin kysymyksiin arvioidaksesi pään TT-tarpeen päänvamman jälkeen\")\n",
        "\n",
        "# Initial questions using header for questions, subheader for replies, and title for outputs\n",
        "st.header(\"GCS < 13 ensiavussa ensimmäistä kertaa arvioitaessa\")\n",
        "question_1 = st.radio(\"\", [\"Valitse vaihtoehto\", \"Ei\", \"Kyllä\"], key=\"question_1\")\n",
        "with st.expander(\"Lisätietoa\"):\n",
        "    st.write(\"Explanation of terms and definitions for GCS < 13 ensiavussa\")\n",
        "    st.table(df)\n",
        "\n",
        "if question_1 == \"Kyllä\":\n",
        "    st.markdown(\"<h1 style='color:red;'>Tee pään TT 1 tunnin sisään arvioinnista</h1>\", unsafe_allow_html=True)\n",
        "elif question_1 == \"Ei\":\n",
        "    st.header(\"GCS < 15 ensiavussa 2 tuntia vamman jälkeen\")\n",
        "    question_2 = st.radio(\"\", [\"Valitse vaihtoehto\", \"Ei\", \"Kyllä\"], key=\"question_2\")\n",
        "    with st.expander(\"Lisätietoa\"):\n",
        "        st.write(\"Additional definitions or clarifications for GCS < 15 ensiavussa 2 tuntia vamman jälkeen\")\n",
        "        st.table(df)\n",
        "\n",
        "    if question_2 == \"Kyllä\":\n",
        "        st.markdown(\"<h1 style='color:red;'>Tee pään TT 1 tunnin sisään arvioinnista</h1>\", unsafe_allow_html=True)\n",
        "    elif question_2 == \"Ei\":\n",
        "        st.header(\"Epäily avoimesta tai kasaan painuneesta kallonmurtumasta\")\n",
        "        question_3 = st.radio(\"\", [\"Valitse vaihtoehto\", \"Ei\", \"Kyllä\"], key=\"question_3\")\n",
        "\n",
        "        if question_3 == \"Kyllä\":\n",
        "            st.markdown(\"<h1 style='color:red;'>Tee pään TT 1 tunnin sisään arvioinnista</h1>\", unsafe_allow_html=True)\n",
        "        elif question_3 == \"Ei\":\n",
        "            st.header(\"Merkki kallonpohjan murtumasta\")\n",
        "            question_4 = st.radio(\"\", [\"Valitse vaihtoehto\", \"Ei\", \"Kyllä\"], key=\"question_4\")\n",
        "            with st.expander(\"Lisätietoa\"):\n",
        "                st.write(\"Hemotympanum, periorbitaalinen hematooma (brillen-hematooma), Subkutaaninen hematooma mastoideuslokeroston päällä (Battle's sign), Likvorivuoto nenästä tai korvasta\")\n",
        "\n",
        "            if question_4 == \"Kyllä\":\n",
        "                st.markdown(\"<h1 style='color:red;'>Tee pään TT 1 tunnin sisään arvioinnista</h1>\", unsafe_allow_html=True)\n",
        "            elif question_4 == \"Ei\":\n",
        "                st.header(\"Vamman jälkeinen kouristuskohtaus\")\n",
        "                question_5 = st.radio(\"\", [\"Valitse vaihtoehto\", \"Ei\", \"Kyllä\"], key=\"question_5\")\n",
        "\n",
        "                if question_5 == \"Kyllä\":\n",
        "                    st.markdown(\"<h1 style='color:red;'>Tee pään TT 1 tunnin sisään arvioinnista</h1>\", unsafe_allow_html=True)\n",
        "                elif question_5 == \"Ei\":\n",
        "                    st.header(\"Paikallinen neurologinen puutosoire\")\n",
        "                    question_6 = st.radio(\"\", [\"Valitse vaihtoehto\", \"Ei\", \"Kyllä\"], key=\"question_6\")\n",
        "                    with st.expander(\"Lisätietoa\"):\n",
        "                        st.write(\"Esim. hemipareesi, dysfasia, näkökenttäpuutos\")\n",
        "\n",
        "                    if question_6 == \"Kyllä\":\n",
        "                        st.markdown(\"<h1 style='color:red;'>Tee pään TT 1 tunnin sisään arvioinnista</h1>\", unsafe_allow_html=True)\n",
        "                    elif question_6 == \"Ei\":\n",
        "                        st.header(\"Useampi kuin yksi oksennusepisodi vamman jälkeen\")\n",
        "                        question_7 = st.radio(\"\", [\"Valitse vaihtoehto\", \"Ei\", \"Kyllä\"], key=\"question_7\")\n",
        "\n",
        "                        if question_7 == \"Kyllä\":\n",
        "                            st.markdown(\"<h1 style='color:red;'>Tee pään TT 1 tunnin sisään arvioinnista</h1>\", unsafe_allow_html=True)\n",
        "                        elif question_7 == \"Ei\":\n",
        "                            # If all initial seven questions are answered \"Ei\", proceed to the next question\n",
        "                            st.header(\"Onko vamman jälkeen ollut tajuttomuutta tai amnesiaa?\")\n",
        "                            question_8 = st.radio(\"\", [\"Valitse vaihtoehto\", \"Ei\", \"Kyllä\"], key=\"question_8\")\n",
        "\n",
        "                            if question_8 == \"Kyllä\":\n",
        "                                # Next question if question_8 is \"Kyllä\"\n",
        "                                st.header(\"Ikä ≥ 65 v?\")\n",
        "                                question_10 = st.radio(\"\", [\"Valitse vaihtoehto\", \"Ei\", \"Kyllä\"], key=\"question_10\")\n",
        "\n",
        "                                if question_10 == \"Kyllä\":\n",
        "                                    st.markdown(\"<h1 style='color:orange;'>Tee pään TT 8 tunnin sisään vammasta</h1>\", unsafe_allow_html=True)\n",
        "                                elif question_10 == \"Ei\":\n",
        "                                    # Proceed to question 11 if question_10 is \"Ei\"\n",
        "                                    st.header(\"Tiedossa verenhyytymishäiriö?\")\n",
        "                                    question_11 = st.radio(\"\", [\"Valitse vaihtoehto\", \"Ei\", \"Kyllä\"], key=\"question_11\")\n",
        "                                    with st.expander(\"Lisätietoa\"):\n",
        "                                        st.write(\"Maksan vajaatoiminta, hemofilia, antikoagulanttilääkitys, verihiutaleiden estäjälääkitys\")\n",
        "\n",
        "                                    if question_11 == \"Kyllä\":\n",
        "                                        st.markdown(\"<h1 style='color:orange;'>Tee pään TT 8 tunnin sisään vammasta</h1>\", unsafe_allow_html=True)\n",
        "                                    elif question_11 == \"Ei\":\n",
        "                                        # Proceed to question 12 if question_11 is \"Ei\"\n",
        "                                        st.header(\"Vaarallinen vammamekanismi?\")\n",
        "                                        question_12 = st.radio(\"\", [\"Valitse vaihtoehto\", \"Ei\", \"Kyllä\"], key=\"question_12\")\n",
        "                                        with st.expander(\"Lisätietoa\"):\n",
        "                                            st.write(\"Jalankulkija tai pyöräilijä joutunut moottoroidun ajoneuvon töytäisemäksi, henkilö lentänyt ulos ajoneuvosta, putoaminen yli 1 metrin tai yli 5 portaan korkeudesta\")\n",
        "\n",
        "                                        if question_12 == \"Kyllä\":\n",
        "                                            st.markdown(\"<h1 style='color:orange;'>Tee pään TT 8 tunnin sisään vammasta</h1>\", unsafe_allow_html=True)\n",
        "                                        elif question_12 == \"Ei\":\n",
        "                                            # Proceed to question 13 if question_12 is \"Ei\"\n",
        "                                            st.header(\"Yli 30 minuutin retrogradinen amnesia?\")\n",
        "                                            question_13 = st.radio(\"\", [\"Valitse vaihtoehto\", \"Ei\", \"Kyllä\"], key=\"question_13\")\n",
        "                                            with st.expander(\"Lisätietoa\"):\n",
        "                                                st.write(\"Muistamattomuus vammaa edeltäneistä tapahtumista\")\n",
        "\n",
        "                                            if question_13 == \"Kyllä\":\n",
        "                                                st.markdown(\"<h1 style='color:orange;'>Tee pään TT 8 tunnin sisään vammasta</h1>\", unsafe_allow_html=True)\n",
        "                                            elif question_13 == \"Ei\":\n",
        "                                                st.markdown(\"<h1 style='color:green;'>Ei tarvetta pään TT-kuvaukselle</h1>\", unsafe_allow_html=True)\n",
        "                            elif question_8 == \"Ei\":\n",
        "                                # Proceed to question 9 if question_8 is \"Ei\"\n",
        "                                st.header(\"Onko antikoagulaatiolääkitystä tai verihiutaleiden estäjälääkitystä (pois lukien aspiriinia)?\")\n",
        "                                question_9 = st.radio(\"\", [\"Valitse vaihtoehto\", \"Ei\", \"Kyllä\"], key=\"question_9\")\n",
        "                                with st.expander(\"Lisätietoa\"):\n",
        "                                    st.write(\"Varfariini, DOAC, hepariini, LMWH, klopidogreeli, tikagreloori, prasugreeli\")\n",
        "\n",
        "                                if question_9 == \"Kyllä\":\n",
        "                                    st.markdown(\"<h1 style='color:#DAA520;'>Harkinnan mukaan pään TT-kuvaus</h1>\", unsafe_allow_html=True)\n",
        "                                elif question_9 == \"Ei\":\n",
        "                                    st.markdown(\"<h1 style='color:green;'>Ei tarvetta pään TT-kuvaukselle</h1>\", unsafe_allow_html=True)\n",
        "\n",
        "# Reference link\n",
        "st.write(\"Viitteet: [Käypähoito – Aivovammat (2023)](https://www.kaypahoito.fi/hoi18020) | [NICE 2023 guidelines](https://www.nice.org.uk/guidance/ng232/chapter/recommendations#criteria-for-doing-a-ct-head-scan)\")"
      ],
      "metadata": {
        "colab": {
          "base_uri": "https://localhost:8080/"
        },
        "id": "z899YJZoLH3d",
        "outputId": "547c5988-57d8-44d3-a16a-3c2f44f9b7f2"
      },
      "execution_count": 3,
      "outputs": [
        {
          "output_type": "stream",
          "name": "stdout",
          "text": [
            "Writing app_ct.py\n"
          ]
        }
      ]
    },
    {
      "cell_type": "code",
      "source": [
        "import threading\n",
        "import subprocess\n",
        "from pyngrok import ngrok\n",
        "\n",
        "# Kill any existing ngrok processes\n",
        "ngrok.kill()\n",
        "\n",
        "def run_streamlit():\n",
        "    # Adjust the port if necessary\n",
        "    subprocess.run(['streamlit', 'run', 'app.py', '--server.port', '8501', '--server.enableCORS', 'false'])\n",
        "\n",
        "thread = threading.Thread(target=run_streamlit)\n",
        "thread.start()\n",
        "\n",
        "# Wait a moment for the app to start\n",
        "import time\n",
        "time.sleep(5)\n",
        "\n",
        "# Start ngrok tunnel\n",
        "public_url = ngrok.connect(addr=\"8501\").public_url\n",
        "print('Public URL:', public_url)"
      ],
      "metadata": {
        "colab": {
          "base_uri": "https://localhost:8080/"
        },
        "id": "blJmA8eh__Qq",
        "outputId": "51867413-fb28-47f5-b19f-5a3fed944d9b"
      },
      "execution_count": 4,
      "outputs": [
        {
          "output_type": "stream",
          "name": "stdout",
          "text": [
            "Public URL: https://e390-34-145-165-123.ngrok-free.app\n"
          ]
        }
      ]
    }
  ]
}